{
 "cells": [
  {
   "cell_type": "markdown",
   "id": "504a7762",
   "metadata": {},
   "source": [
    "# Rapport Projet - Réseau de neurones : DIY"
   ]
  },
  {
   "cell_type": "markdown",
   "id": "d7c24b87",
   "metadata": {},
   "source": [
    "fait par ABITBOL Ethan, 3804139 et DUFOURMANTELLE Jeremy, xxxxxxxx."
   ]
  },
  {
   "cell_type": "markdown",
   "id": "2fe10a91",
   "metadata": {},
   "source": [
    "# Introduction \n",
    "Ce projet consiste a implementer un reseau de neurones. L'implémentation est inspirée des anciennes versions de pytorch et des\n",
    "implémentations analogues qui permettent d’avoir des réseaux génériques très modulaires. Chaque\n",
    "couche du réseau est vu comme un module et un réseau est constitué ainsi d’un ensemble de modules."
   ]
  },
  {
   "cell_type": "markdown",
   "id": "d0f68046",
   "metadata": {},
   "source": [
    "https://qastack.fr/ai/113/whats-the-difference-between-hyperbolic-tangent-and-sigmoid-neurons"
   ]
  },
  {
   "cell_type": "code",
   "execution_count": null,
   "id": "e81e4dea",
   "metadata": {},
   "outputs": [],
   "source": []
  }
 ],
 "metadata": {
  "kernelspec": {
   "display_name": "Python 3 (ipykernel)",
   "language": "python",
   "name": "python3"
  },
  "language_info": {
   "codemirror_mode": {
    "name": "ipython",
    "version": 3
   },
   "file_extension": ".py",
   "mimetype": "text/x-python",
   "name": "python",
   "nbconvert_exporter": "python",
   "pygments_lexer": "ipython3",
   "version": "3.9.0"
  }
 },
 "nbformat": 4,
 "nbformat_minor": 5
}
